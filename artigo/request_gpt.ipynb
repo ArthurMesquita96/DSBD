{
 "cells": [
  {
   "cell_type": "code",
   "execution_count": 4,
   "metadata": {},
   "outputs": [
    {
     "data": {
      "text/plain": [
       "'{\\n  \"object\": \"list\",\\n  \"data\": [\\n    {\\n      \"id\": \"dall-e-3\",\\n      \"object\": \"model\",\\n      \"created\": 1698785189,\\n      \"owned_by\": \"system\"\\n    },\\n    {\\n      \"id\": \"gpt-4-1106-preview\",\\n      \"object\": \"model\",\\n      \"created\": 1698957206,\\n      \"owned_by\": \"system\"\\n    },\\n    {\\n      \"id\": \"dall-e-2\",\\n      \"object\": \"model\",\\n      \"created\": 1698798177,\\n      \"owned_by\": \"system\"\\n    },\\n    {\\n      \"id\": \"tts-1-hd-1106\",\\n      \"object\": \"model\",\\n      \"created\": 1699053533,\\n      \"owned_by\": \"system\"\\n    },\\n    {\\n      \"id\": \"tts-1-hd\",\\n      \"object\": \"model\",\\n      \"created\": 1699046015,\\n      \"owned_by\": \"system\"\\n    },\\n    {\\n      \"id\": \"text-embedding-3-large\",\\n      \"object\": \"model\",\\n      \"created\": 1705953180,\\n      \"owned_by\": \"system\"\\n    },\\n    {\\n      \"id\": \"babbage-002\",\\n      \"object\": \"model\",\\n      \"created\": 1692634615,\\n      \"owned_by\": \"system\"\\n    },\\n    {\\n      \"id\": \"gpt-4-turbo-preview\",\\n      \"object\": \"model\",\\n      \"created\": 1706037777,\\n      \"owned_by\": \"system\"\\n    },\\n    {\\n      \"id\": \"gpt-4o-mini\",\\n      \"object\": \"model\",\\n      \"created\": 1721172741,\\n      \"owned_by\": \"system\"\\n    },\\n    {\\n      \"id\": \"gpt-4-0125-preview\",\\n      \"object\": \"model\",\\n      \"created\": 1706037612,\\n      \"owned_by\": \"system\"\\n    },\\n    {\\n      \"id\": \"gpt-4o-mini-2024-07-18\",\\n      \"object\": \"model\",\\n      \"created\": 1721172717,\\n      \"owned_by\": \"system\"\\n    },\\n    {\\n      \"id\": \"text-embedding-3-small\",\\n      \"object\": \"model\",\\n      \"created\": 1705948997,\\n      \"owned_by\": \"system\"\\n    },\\n    {\\n      \"id\": \"tts-1\",\\n      \"object\": \"model\",\\n      \"created\": 1681940951,\\n      \"owned_by\": \"openai-internal\"\\n    },\\n    {\\n      \"id\": \"gpt-3.5-turbo\",\\n      \"object\": \"model\",\\n      \"created\": 1677610602,\\n      \"owned_by\": \"openai\"\\n    },\\n    {\\n      \"id\": \"whisper-1\",\\n      \"object\": \"model\",\\n      \"created\": 1677532384,\\n      \"owned_by\": \"openai-internal\"\\n    },\\n    {\\n      \"id\": \"text-embedding-ada-002\",\\n      \"object\": \"model\",\\n      \"created\": 1671217299,\\n      \"owned_by\": \"openai-internal\"\\n    },\\n    {\\n      \"id\": \"gpt-3.5-turbo-16k\",\\n      \"object\": \"model\",\\n      \"created\": 1683758102,\\n      \"owned_by\": \"openai-internal\"\\n    },\\n    {\\n      \"id\": \"davinci-002\",\\n      \"object\": \"model\",\\n      \"created\": 1692634301,\\n      \"owned_by\": \"system\"\\n    },\\n    {\\n      \"id\": \"gpt-4-turbo-2024-04-09\",\\n      \"object\": \"model\",\\n      \"created\": 1712601677,\\n      \"owned_by\": \"system\"\\n    },\\n    {\\n      \"id\": \"tts-1-1106\",\\n      \"object\": \"model\",\\n      \"created\": 1699053241,\\n      \"owned_by\": \"system\"\\n    },\\n    {\\n      \"id\": \"gpt-3.5-turbo-0125\",\\n      \"object\": \"model\",\\n      \"created\": 1706048358,\\n      \"owned_by\": \"system\"\\n    },\\n    {\\n      \"id\": \"gpt-4-turbo\",\\n      \"object\": \"model\",\\n      \"created\": 1712361441,\\n      \"owned_by\": \"system\"\\n    },\\n    {\\n      \"id\": \"gpt-3.5-turbo-1106\",\\n      \"object\": \"model\",\\n      \"created\": 1698959748,\\n      \"owned_by\": \"system\"\\n    },\\n    {\\n      \"id\": \"gpt-3.5-turbo-instruct-0914\",\\n      \"object\": \"model\",\\n      \"created\": 1694122472,\\n      \"owned_by\": \"system\"\\n    },\\n    {\\n      \"id\": \"gpt-3.5-turbo-instruct\",\\n      \"object\": \"model\",\\n      \"created\": 1692901427,\\n      \"owned_by\": \"system\"\\n    },\\n    {\\n      \"id\": \"gpt-4o\",\\n      \"object\": \"model\",\\n      \"created\": 1715367049,\\n      \"owned_by\": \"system\"\\n    },\\n    {\\n      \"id\": \"gpt-4-0613\",\\n      \"object\": \"model\",\\n      \"created\": 1686588896,\\n      \"owned_by\": \"openai\"\\n    },\\n    {\\n      \"id\": \"gpt-4o-2024-05-13\",\\n      \"object\": \"model\",\\n      \"created\": 1715368132,\\n      \"owned_by\": \"system\"\\n    },\\n    {\\n      \"id\": \"gpt-4\",\\n      \"object\": \"model\",\\n      \"created\": 1687882411,\\n      \"owned_by\": \"openai\"\\n    },\\n    {\\n      \"id\": \"gpt-4o-2024-08-06\",\\n      \"object\": \"model\",\\n      \"created\": 1722814719,\\n      \"owned_by\": \"system\"\\n    }\\n  ]\\n}\\n'"
      ]
     },
     "execution_count": 4,
     "metadata": {},
     "output_type": "execute_result"
    }
   ],
   "source": [
    "import requests\n",
    "import json\n",
    "\n",
    "headers = {\"Authorization\": f\"Bearer {API_KEY}\"}\n",
    "link = 'https://api.openai.com/v1/models'\n",
    "res = requests.get(link, headers=headers)\n"
   ]
  },
  {
   "cell_type": "code",
   "execution_count": 17,
   "metadata": {},
   "outputs": [],
   "source": [
    "id_modelo = \"gpt-3.5-turbo\"\n",
    "link = 'https://api.openai.com/v1/chat/completions'\n",
    "headers = {\"Authorization\": f\"Bearer {API_KEY}\", \"Content-Type\": \"application/json\"}\n",
    "body = {\n",
    "    'model': id_modelo,\n",
    "    'messages': [{'role':'user', 'content': 'Escreva um email para o meu chefe falando sobre a previsão do tempo em Curitiba'}]\n",
    "}\n",
    "\n",
    "res = requests.post(link, headers=headers, data= json.dumps(body))\n"
   ]
  },
  {
   "cell_type": "code",
   "execution_count": 31,
   "metadata": {},
   "outputs": [
    {
     "data": {
      "text/plain": [
       "'Assunto: Previsão do tempo em Curitiba\\n\\nCaro Chefe,\\n\\nEspero que esteja tudo bem consigo. Gostaria de informar sobre a previsão do tempo em Curitiba para os próximos dias.\\n\\nDe acordo com os últimos relatórios meteorológicos, está previsto que teremos dias com céu parcialmente nublado e possibilidade de chuvas isoladas ao longo da semana. A temperatura máxima deve oscilar entre 20°C e 25°C, enquanto a mínima ficará em torno de 12°C.\\n\\nÉ importante ficarmos atentos a essas condições climáticas, especialmente se tivermos compromissos externos ou planejamentos que dependam das condições do tempo.\\n\\nFico à disposição para qualquer outra informação ou medida que precisar ser tomada tendo em conta a previsão do tempo.\\n\\nAtenciosamente,\\n[Seu nome]'"
      ]
     },
     "execution_count": 31,
     "metadata": {},
     "output_type": "execute_result"
    }
   ],
   "source": [
    "res.json()['choices'][0]['message']['content']"
   ]
  },
  {
   "cell_type": "code",
   "execution_count": 32,
   "metadata": {},
   "outputs": [],
   "source": [
    "prompt = '''\n",
    "Você é um especialista em compra e venda de imóveis. Vou te passar a descrição de alguns anuncios de apartamentos e preciso que você organiza essas informações em um dicionário python sintetizando sempre algumas informações basicas:\n",
    "- Área\n",
    "- Número de Quartos\n",
    "- Número de Banheiros\n",
    "- Número de Suítes\n",
    "- Número de Vagas de Garagem\n",
    "- Se o apartamento já possui alguma mobilia\n",
    "- Quais mobilias o apartamento possui (organize isso em uma lista dentro do dicionário)\n",
    "- Se possui sacada e quantas possui\n",
    "- Se o condomínio possui piscina\n",
    "- Se o condomínio possui academia\n",
    "- Se o condomínio possui churrasqueira\n",
    "- Se o condomínio possui salão de festas\n",
    "- Se o condomínio possui playground\n",
    "- Qual é o andar do apartamento\n",
    "- Se o aquecimento é a gás ou elétrico\n",
    "- Se possui portaria\n",
    "\n",
    "Se no texto não houver informações sobre os pontos solicitados, preencher o campo como \"Não informado\"\n",
    "Organize esses dados como um dicionário python\n",
    "O texto é o seguinte:\n",
    "\n",
    "Apartamento com 3 quartos no Bairro Santa Quitéria\n",
    "Imóvel com gestão exclusiva Apolar\n",
    "APARTAMENTO NO BAIRRO SANTA QUITÉRIA, CONTENDO:\n",
    "- SALA PARA 02 AMBIENTES COM PAPEL DE PAREDE, PISO LAMINADO, PAINEL, ESPELHO E SACADA COM CHURRASQUEIRA\n",
    "- 03 DORMITÓRIOS, SENDO 01 SUÍTE E UM DOS QUARTOS COM ARMÁRIOS PLANEJADOS, O OUTRO COM 01 SAPATEIRA\n",
    "- COZINHA COM ARMÁRIOS, FOGÃO E GELADEIRA\n",
    "- ÁREA DE SERVIÇO COM TANQUE E MÁQUINA DE LAVAR\n",
    "\n",
    "CRECI: J-04136\n",
    "'''"
   ]
  },
  {
   "cell_type": "code",
   "execution_count": 33,
   "metadata": {},
   "outputs": [],
   "source": [
    "def request_chat_gpt(prompt):\n",
    "    id_modelo = \"gpt-3.5-turbo\"\n",
    "    link = 'https://api.openai.com/v1/chat/completions'\n",
    "    headers = {\"Authorization\": f\"Bearer {API_KEY}\", \"Content-Type\": \"application/json\"}\n",
    "    body = {\n",
    "        'model': id_modelo,\n",
    "        'messages': [{'role':'user', 'content': prompt}]\n",
    "    }\n",
    "\n",
    "    res = requests.post(link, headers=headers, data= json.dumps(body))\n",
    "\n",
    "    return res.json()['choices'][0]['message']['content']"
   ]
  },
  {
   "cell_type": "code",
   "execution_count": 35,
   "metadata": {},
   "outputs": [],
   "source": [
    "res = request_chat_gpt(prompt)"
   ]
  },
  {
   "cell_type": "code",
   "execution_count": 39,
   "metadata": {},
   "outputs": [
    {
     "data": {
      "text/plain": [
       "{'Área': 'Não informado',\n",
       " 'Número de Quartos': 3,\n",
       " 'Número de Banheiros': 'Não informado',\n",
       " 'Número de Suítes': 1,\n",
       " 'Número de Vagas de Garagem': 'Não informado',\n",
       " 'Mobília': 'Sim',\n",
       " 'Mobilias': ['Armários planejados',\n",
       "  'Sapateira',\n",
       "  'Fogão',\n",
       "  'Geladeira',\n",
       "  'Máquina de lavar'],\n",
       " 'Possui sacada': 'Sim',\n",
       " 'Quantidade de sacadas': 1,\n",
       " 'Possui piscina': 'Não informado',\n",
       " 'Possui academia': 'Não informado',\n",
       " 'Possui churrasqueira': 'Sim',\n",
       " 'Possui salão de festas': 'Não informado',\n",
       " 'Possui playground': 'Não informado',\n",
       " 'Andar': 'Não informado',\n",
       " 'Aquecimento': 'Não informado',\n",
       " 'Possui portaria': 'Não informado'}"
      ]
     },
     "execution_count": 39,
     "metadata": {},
     "output_type": "execute_result"
    }
   ],
   "source": [
    "eval(res)"
   ]
  }
 ],
 "metadata": {
  "kernelspec": {
   "display_name": "artigo-env",
   "language": "python",
   "name": "python3"
  },
  "language_info": {
   "codemirror_mode": {
    "name": "ipython",
    "version": 3
   },
   "file_extension": ".py",
   "mimetype": "text/x-python",
   "name": "python",
   "nbconvert_exporter": "python",
   "pygments_lexer": "ipython3",
   "version": "3.11.9"
  }
 },
 "nbformat": 4,
 "nbformat_minor": 2
}
