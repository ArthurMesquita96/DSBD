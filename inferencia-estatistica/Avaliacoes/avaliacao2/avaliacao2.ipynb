{
 "cells": [
  {
   "cell_type": "code",
   "execution_count": 9,
   "metadata": {},
   "outputs": [],
   "source": [
    "import numpy as np\n",
    "import scipy.linalg as la"
   ]
  },
  {
   "cell_type": "code",
   "execution_count": 3,
   "metadata": {},
   "outputs": [],
   "source": [
    "def hadamard_product(matrix_A, matrix_B):\n",
    "    '''\n",
    "    Compute the Hadamard product of two matrices.\n",
    "\n",
    "    Args:\n",
    "    — matrix_A (numpy.ndarray): First matrix.\n",
    "    — matrix_B (numpy.ndarray): Second matrix.\n",
    "\n",
    "    Returns:\n",
    "    — numpy.ndarray: Hadamard product of the input matrices.\n",
    "    '''\n",
    "\n",
    "    # Ensure matrices have the same shape\n",
    "    if matrix_A.shape != matrix_B.shape:\n",
    "        raise ValueError(\"Both matrices must have the same shape for Hadamard product.\")\n",
    "\n",
    "    return np.multiply(matrix_A, matrix_B)"
   ]
  },
  {
   "cell_type": "code",
   "execution_count": 6,
   "metadata": {},
   "outputs": [
    {
     "data": {
      "text/plain": [
       "438"
      ]
     },
     "execution_count": 6,
     "metadata": {},
     "output_type": "execute_result"
    }
   ],
   "source": [
    "A = np.array([[9,6,7,9,13]])\n",
    "B = np.array([[8,7,17,4,13]])\n",
    "\n",
    "c = hadamard_product(A,B)\n",
    "\n",
    "c.sum()"
   ]
  },
  {
   "cell_type": "code",
   "execution_count": 12,
   "metadata": {},
   "outputs": [
    {
     "name": "stdout",
     "output_type": "stream",
     "text": [
      "[3.3+0.j 0.3+0.j 0.1+0.j 0.3+0.j]\n",
      "[[-5.00000000e-01 -7.07106781e-01  5.00000000e-01  8.06094260e-02]\n",
      " [-5.00000000e-01 -3.19954812e-16 -5.00000000e-01 -7.02497061e-01]\n",
      " [-5.00000000e-01 -5.62768436e-17 -5.00000000e-01  7.02497061e-01]\n",
      " [-5.00000000e-01  7.07106781e-01  5.00000000e-01 -8.06094260e-02]]\n"
     ]
    }
   ],
   "source": [
    "A = np.array([\n",
    "    [1.0, 0.8, 0.8, 0.7],\n",
    "    [0.8, 1.0, 0.7, 0.8],\n",
    "    [0.8, 0.7, 1.0, 0.8],\n",
    "    [0.7, 0.8, 0.8, 1.0]\n",
    "    ])\n",
    "autovalores, autovetores = la.eig(A)\n",
    "\n",
    "print(autovalores)\n",
    "print(autovetores)"
   ]
  },
  {
   "cell_type": "code",
   "execution_count": 19,
   "metadata": {},
   "outputs": [
    {
     "data": {
      "text/plain": [
       "array([[13, 17, 18, 17, 18],\n",
       "       [17, 18, 25, 16, 26],\n",
       "       [21, 29, 17, 16, 15],\n",
       "       [14, 13, 15, 13, 26],\n",
       "       [22, 11, 20, 19, 21]])"
      ]
     },
     "execution_count": 19,
     "metadata": {},
     "output_type": "execute_result"
    }
   ],
   "source": [
    "A = np.array([\n",
    "    [10, 10, 10, 9, 7],\n",
    "    [8, 9, 11, 5, 11],\n",
    "    [11, 16, 8, 10, 9],\n",
    "    [5, 7, 4, 6, 14],\n",
    "    [10, 6, 9, 10, 10]\n",
    "])\n",
    "\n",
    "B = np.array([\n",
    "    [3, 7, 8, 8, 11],\n",
    "    [9, 9, 14, 11, 15],\n",
    "    [10, 13, 9, 6, 6],\n",
    "    [9, 6, 11, 7, 12],\n",
    "    [12, 5, 11, 9, 11]\n",
    "]) \n",
    "\n",
    "C = A + B\n",
    "\n",
    "# C.sum()\n",
    "C"
   ]
  },
  {
   "cell_type": "code",
   "execution_count": 21,
   "metadata": {},
   "outputs": [
    {
     "data": {
      "text/plain": [
       "714"
      ]
     },
     "execution_count": 21,
     "metadata": {},
     "output_type": "execute_result"
    }
   ],
   "source": [
    "# Q6\n",
    "\n",
    "A = np.array([\n",
    "    [12, 16, 7, 7, 6],\n",
    "    [7, 12, 15, 5, 9],\n",
    "    [8, 8, 7, 12, 5],\n",
    "    [13, 10, 12, 10, 5],\n",
    "    [14, 7, 11, 11, 9]\n",
    "])\n",
    "\n",
    "alpha = 3\n",
    "\n",
    "C = alpha*A\n",
    "\n",
    "C.sum()"
   ]
  },
  {
   "cell_type": "code",
   "execution_count": 24,
   "metadata": {},
   "outputs": [
    {
     "data": {
      "text/plain": [
       "16093"
      ]
     },
     "execution_count": 24,
     "metadata": {},
     "output_type": "execute_result"
    }
   ],
   "source": [
    "# Q7\n",
    "A = np.array([\n",
    "    [16, 15, 8, 11, 9],\n",
    "    [8, 11, 10, 13, 11],\n",
    "    [11, 9, 12, 5, 8],\n",
    "    [18, 10, 10, 10, 12],\n",
    "    [15, 14, 11, 7, 14]\n",
    "])\n",
    "\n",
    "B = np.array([\n",
    "    [4, 11, 9, 9, 16],\n",
    "    [14, 15, 15, 9, 13],\n",
    "    [12, 9, 13, 11, 10],\n",
    "    [10, 10, 10, 18, 11],\n",
    "    [13, 7, 16, 13, 13]\n",
    "])\n",
    "\n",
    "C = A.dot(B)\n",
    "\n",
    "C.sum()"
   ]
  },
  {
   "cell_type": "code",
   "execution_count": 25,
   "metadata": {},
   "outputs": [
    {
     "data": {
      "text/plain": [
       "392"
      ]
     },
     "execution_count": 25,
     "metadata": {},
     "output_type": "execute_result"
    }
   ],
   "source": [
    "# Q8\n",
    "\n",
    "A = np.array([[7, 7, 6, 9, 9]])\n",
    "B = np.array([[8, 6, 19, 11, 9]])\n",
    "\n",
    "c = hadamard_product(A,B)\n",
    "\n",
    "c.sum()"
   ]
  },
  {
   "cell_type": "code",
   "execution_count": 119,
   "metadata": {},
   "outputs": [
    {
     "data": {
      "text/plain": [
       "-5.184360122352768"
      ]
     },
     "execution_count": 119,
     "metadata": {},
     "output_type": "execute_result"
    }
   ],
   "source": [
    "#Q9\n",
    "import scipy\n",
    "\n",
    "V = np.array([\n",
    "    [30.6, 0, 0, 0],\n",
    "    [0, 1.8, 0, 0],\n",
    "    [0, 0, 1.8, 0],\n",
    "    [0, 0, 0, 1.8]\n",
    "    ]\n",
    ")\n",
    "\n",
    "Q = np.array([\n",
    "    [-0.5, -0.1108307,  0.76679383, -0.3869674],\n",
    "    [-0.5, -0.1187031,  0.08747384,  0.8533803],\n",
    "    [-0.5, -0.5734494, -0.56764881, -0.3145324],\n",
    "    [-0.5,  0.8029832, -0.28661886, -0.1518805]\n",
    "    ]\n",
    ")\n",
    "\n",
    "A = Q.dot(V).dot(Q.T)\n",
    "\n",
    "A_inv = np.linalg.inv(A)\n",
    "\n",
    "np.log(np.linalg.det(A_inv))"
   ]
  },
  {
   "cell_type": "code",
   "execution_count": 83,
   "metadata": {},
   "outputs": [
    {
     "data": {
      "text/plain": [
       "9.203418803418801"
      ]
     },
     "execution_count": 83,
     "metadata": {},
     "output_type": "execute_result"
    }
   ],
   "source": [
    "# Q10\n",
    "\n",
    "import scipy\n",
    "\n",
    "# Defina sua matriz\n",
    "A = np.array([[1.0, 0.8, 0.8, 0.8],\n",
    "              [0.8, 1.0, 0.8, 0.8],\n",
    "              [0.8, 0.8, 1.0, 0.8],\n",
    "              [0.8, 0.8, 0.8, 1.0]])\n",
    "\n",
    "b = np.array(\n",
    "    [12, 8, 7, 9]\n",
    ")\n",
    "\n",
    "# Faça a decomposição LU\n",
    "P, L, U = scipy.linalg.lu(A)\n",
    "\n",
    "# LUX = b\n",
    "\n",
    "y = np.linalg.solve(L, b)\n",
    "\n",
    "y.sum()"
   ]
  },
  {
   "cell_type": "code",
   "execution_count": null,
   "metadata": {},
   "outputs": [],
   "source": [
    "np.ex"
   ]
  },
  {
   "cell_type": "code",
   "execution_count": 106,
   "metadata": {},
   "outputs": [
    {
     "data": {
      "text/plain": [
       "(30.69+0j)"
      ]
     },
     "execution_count": 106,
     "metadata": {},
     "output_type": "execute_result"
    }
   ],
   "source": [
    "A = np.array([\n",
    "    [1.0, 0.8, 0.8, 0.7],\n",
    "    [0.8, 1.0, 0.7, 0.8],\n",
    "    [0.8, 0.7, 1.0, 0.8],\n",
    "    [0.7, 0.8, 0.8, 1.0]\n",
    "    ])\n",
    "\n",
    "autovalores, autovetores = la.eig(A)\n",
    "\n",
    "V = np.array([\n",
    "    [autovalores[0], 0, 0, 0],\n",
    "    [0, autovalores[1], 0, 0],\n",
    "    [0, 0, autovalores[2], 0],\n",
    "    [0, 0, 0, autovalores[3]]\n",
    "])\n",
    "\n",
    "Q = np.around(autovetores,6)\n",
    "\n",
    "result = np.around(Q.dot(np.exp(V)).dot(Q.T), 2)\n",
    "\n",
    "np.trace(result)"
   ]
  },
  {
   "cell_type": "code",
   "execution_count": 108,
   "metadata": {},
   "outputs": [
    {
     "data": {
      "text/plain": [
       "20"
      ]
     },
     "execution_count": 108,
     "metadata": {},
     "output_type": "execute_result"
    }
   ],
   "source": [
    "# Q15\n",
    "\n",
    "A = np.array([\n",
    "    [12, 9, 10, 12, 14],\n",
    "    [8, 11, 13, 12, 16],\n",
    "    [9, 10, 13, 14, 8],\n",
    "    [5, 15, 12, 10, 8],\n",
    "    [9, 7, 10, 10, 11]\n",
    "])\n",
    "\n",
    "B = np.array([\n",
    "    [15, 13, 11, 16, 5],\n",
    "    [9, 12, 6, 13, 5],\n",
    "    [11, 8, 8, 8, 8],\n",
    "    [9, 8, 8, 6, 15],\n",
    "    [5, 14, 10, 15, 10]\n",
    "]) \n",
    "\n",
    "C = A - B\n",
    "\n",
    "C.sum()\n"
   ]
  },
  {
   "cell_type": "code",
   "execution_count": 113,
   "metadata": {},
   "outputs": [
    {
     "data": {
      "text/plain": [
       "383"
      ]
     },
     "execution_count": 113,
     "metadata": {},
     "output_type": "execute_result"
    }
   ],
   "source": [
    "# Q20\n",
    "A = np.array([\n",
    "    [12, 8, 7, 5, 3]\n",
    "])\n",
    "\n",
    "B = np.array([\n",
    "    [10, 9, 14, 15, 6]\n",
    "])\n",
    "\n",
    "C = A*B\n",
    "\n",
    "C.sum()"
   ]
  },
  {
   "cell_type": "code",
   "execution_count": 115,
   "metadata": {},
   "outputs": [
    {
     "data": {
      "text/plain": [
       "648"
      ]
     },
     "execution_count": 115,
     "metadata": {},
     "output_type": "execute_result"
    }
   ],
   "source": [
    "# Q21\n",
    "\n",
    "A = np.array([\n",
    "    [17, 5, 10, 10, 12]\n",
    "])\n",
    "\n",
    "alpha = 12\n",
    "\n",
    "b = alpha*A\n",
    "\n",
    "b.sum()"
   ]
  },
  {
   "cell_type": "code",
   "execution_count": 117,
   "metadata": {},
   "outputs": [
    {
     "data": {
      "text/plain": [
       "542"
      ]
     },
     "execution_count": 117,
     "metadata": {},
     "output_type": "execute_result"
    }
   ],
   "source": [
    "# Q23\n",
    "A = np.array([\n",
    "    [13, 9, 13, 12, 10],\n",
    "    [11, 7, 12, 9, 18],\n",
    "    [14, 11, 8, 8, 8],\n",
    "    [18, 9, 15, 17, 14],\n",
    "    [5, 11, 9, 11, 4]\n",
    "])\n",
    "\n",
    "B = np.array([\n",
    "    [10, 13, 17, 15, 11],\n",
    "    [9, 11, 7, 6, 10],\n",
    "    [13, 16, 8, 5, 11],\n",
    "    [7, 9, 10, 9, 9],\n",
    "    [14, 16, 12, 10, 8]\n",
    "])\n",
    "\n",
    "C = A+B\n",
    "\n",
    "C.sum()\n",
    "\n"
   ]
  }
 ],
 "metadata": {
  "kernelspec": {
   "display_name": "busca-apartamentos-env",
   "language": "python",
   "name": "python3"
  },
  "language_info": {
   "codemirror_mode": {
    "name": "ipython",
    "version": 3
   },
   "file_extension": ".py",
   "mimetype": "text/x-python",
   "name": "python",
   "nbconvert_exporter": "python",
   "pygments_lexer": "ipython3",
   "version": "3.11.9"
  }
 },
 "nbformat": 4,
 "nbformat_minor": 2
}
